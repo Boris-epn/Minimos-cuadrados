{
 "cells": [
  {
   "metadata": {},
   "cell_type": "markdown",
   "source": "## Mínimos cuadrados",
   "id": "6a85e412397e14e0"
  },
  {
   "metadata": {},
   "cell_type": "markdown",
   "source": "![c1](c1.png)",
   "id": "eb2aa4b2d630476d"
  },
  {
   "metadata": {
    "jupyter": {
     "is_executing": true
    }
   },
   "cell_type": "code",
   "source": [
    "import numpy as np\n",
    "import matploplib.pyplot as plt\n",
    "x=np.array(4,4.2,4.5,4.7,5.1,5.5,5.9,6.3,6.8)\n",
    "y=np.array(102.56,130.11,113.18,142.05,167.53,195.14,224.87,256.73,299.50)\n",
    "coeficientes = np.polyfit(x,y,1)\n",
    "a,b = coeficientes\n",
    "print(f'los coeficientes son m= {a}}, b= {b})\n",
    "    "
   ],
   "id": "4611a19bfe32a70e",
   "outputs": [],
   "execution_count": null
  }
 ],
 "metadata": {
  "kernelspec": {
   "display_name": "Python 3",
   "language": "python",
   "name": "python3"
  },
  "language_info": {
   "codemirror_mode": {
    "name": "ipython",
    "version": 2
   },
   "file_extension": ".py",
   "mimetype": "text/x-python",
   "name": "python",
   "nbconvert_exporter": "python",
   "pygments_lexer": "ipython2",
   "version": "2.7.6"
  }
 },
 "nbformat": 4,
 "nbformat_minor": 5
}
